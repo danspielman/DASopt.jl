{
 "cells": [
  {
   "cell_type": "code",
   "execution_count": 1,
   "metadata": {
    "ExecuteTime": {
     "end_time": "2021-01-04T15:51:28.161000-05:00",
     "start_time": "2021-01-04T20:51:15.106Z"
    }
   },
   "outputs": [
    {
     "data": {
      "text/plain": [
       "16-element Array{Int64,1}:\n",
       "  2\n",
       "  3\n",
       "  4\n",
       "  5\n",
       "  6\n",
       "  7\n",
       "  8\n",
       "  9\n",
       " 10\n",
       " 11\n",
       " 12\n",
       " 13\n",
       " 14\n",
       " 15\n",
       " 16\n",
       " 17"
      ]
     },
     "execution_count": 1,
     "metadata": {},
     "output_type": "execute_result"
    }
   ],
   "source": [
    "using Distributed\n",
    "addprocs()"
   ]
  },
  {
   "cell_type": "code",
   "execution_count": 2,
   "metadata": {
    "ExecuteTime": {
     "end_time": "2021-01-04T15:51:29.751000-05:00",
     "start_time": "2021-01-04T20:51:15.350Z"
    }
   },
   "outputs": [],
   "source": [
    "@everywhere using LinearAlgebra"
   ]
  },
  {
   "cell_type": "code",
   "execution_count": 3,
   "metadata": {
    "ExecuteTime": {
     "end_time": "2021-01-04T15:52:35.723000-05:00",
     "start_time": "2021-01-04T20:51:16.128Z"
    }
   },
   "outputs": [
    {
     "name": "stderr",
     "output_type": "stream",
     "text": [
      "┌ Info: Precompiling DASopt [a08eace3-cfa3-465c-9b2d-462bbbc668e1]\n",
      "└ @ Base loading.jl:1278\n"
     ]
    }
   ],
   "source": [
    "@everywhere using DASopt"
   ]
  },
  {
   "cell_type": "code",
   "execution_count": 4,
   "metadata": {
    "ExecuteTime": {
     "end_time": "2021-01-04T15:52:43.785000-05:00",
     "start_time": "2021-01-04T20:51:16.899Z"
    }
   },
   "outputs": [],
   "source": [
    "n = 100\n",
    "M = randn(n,n)\n",
    "@everywhere function f(M,x) \n",
    "    if rand() < 1e-6\n",
    "        error(\"throw it!\")\n",
    "    else \n",
    "        return sum((M*x).^4) / sum(x.^4)\n",
    "    end\n",
    "end\n",
    "for i in procs()\n",
    "remotecall_fetch(()->M, i);\n",
    "end"
   ]
  },
  {
   "cell_type": "code",
   "execution_count": 5,
   "metadata": {
    "ExecuteTime": {
     "end_time": "2021-01-04T15:52:43.798000-05:00",
     "start_time": "2021-01-04T20:51:17.813Z"
    }
   },
   "outputs": [],
   "source": [
    "@everywhere normit(x) = x / norm(x)"
   ]
  },
  {
   "cell_type": "code",
   "execution_count": 10,
   "metadata": {
    "ExecuteTime": {
     "end_time": "2021-01-04T15:25:04.247000-05:00",
     "start_time": "2021-01-04T20:24:03.939Z"
    }
   },
   "outputs": [
    {
     "name": "stdout",
     "output_type": "stream",
     "text": [
      "dev2 parallel\n",
      "initial pop size 1000.\n",
      "initial best: 33760.27951361034\n",
      "      From worker 8:\tErrorException(\"throw it!\")\n",
      "      From worker 16:\tErrorException(\"throw it!\")\n",
      "Round 53: 752797.1545615318\n",
      "      From worker 15:\tErrorException(\"throw it!\")\n",
      "      From worker 3:\tErrorException(\"throw it!\")\n",
      "Round 108: 852027.8109074223\n",
      "Round 163: 885116.8375092613\n",
      "      From worker 6:\tErrorException(\"throw it!\")\n",
      "Round 217: 892702.3320229483\n",
      "Round 271: 895720.2180021417\n",
      "Round 325: 899094.7714576047\n",
      "Round 378: 900750.5827684494\n",
      "      From worker 13:\tErrorException(\"throw it!\")\n",
      "Round 430: 901994.7273835915\n",
      "final: 902792.7832619735, after 479 rounds.\n"
     ]
    }
   ],
   "source": [
    "@everywhere f(x) = f(M,x)\n",
    "opt = popevolve(f, randn(n), 60, mapin=normit, parallel=:true, sense=:Max);"
   ]
  },
  {
   "cell_type": "code",
   "execution_count": 6,
   "metadata": {
    "ExecuteTime": {
     "end_time": "2021-01-04T15:53:46.178000-05:00",
     "start_time": "2021-01-04T20:51:23.262Z"
    }
   },
   "outputs": [
    {
     "name": "stdout",
     "output_type": "stream",
     "text": [
      "dev2 parallel\n",
      "initial pop size 1000.\n",
      "initial best: 28692.174510307275\n",
      "Round 1: best: 32887.45457884659, worst: 5079.611494872688.\n",
      "Random direction\n",
      "Round 2: best: 35929.4331839412, worst: 7794.385842476244.\n",
      "Round 3: best: 51197.40382006442, worst: 9947.802231003921.\n",
      "Random direction\n",
      "Round 4: best: 51822.30907186118, worst: 10841.63987396976.\n",
      "Round 5: best: 63261.02589345638, worst: 14162.197108589437.\n",
      "Random direction\n",
      "Round 6: best: 63299.355054485284, worst: 14444.187199866734.\n",
      "Round 7: best: 90514.62207944761, worst: 15917.166304597917.\n",
      "Random direction\n",
      "Round 8: best: 90769.2857102871, worst: 16937.51236097769.\n",
      "Round 9: best: 94890.3876951214, worst: 19444.847243274355.\n",
      "Random direction\n",
      "Round 10: best: 98097.63185409544, worst: 19774.568919569323.\n",
      "Round 11: best: 112133.1581322316, worst: 24124.766798640387.\n",
      "Random direction\n",
      "Round 12: best: 131333.7727738918, worst: 24270.913125719864.\n",
      "Round 13: best: 156237.6874587748, worst: 26463.87922518768.\n",
      "Random direction\n",
      "Round 14: best: 163284.67546853807, worst: 26834.555286317198.\n",
      "Round 15: best: 188911.71658346726, worst: 34287.956884623476.\n",
      "Random direction\n",
      "Round 16: best: 197868.13481826326, worst: 34693.98213545809.\n",
      "Round 17: best: 219600.9704488122, worst: 34823.591831049.\n",
      "Random direction\n",
      "Round 18: best: 227769.30269066663, worst: 34915.152065504204.\n",
      "Round 19: best: 265967.8736370308, worst: 41187.97665994109.\n",
      "Random direction\n",
      "Round 20: best: 267365.6267565287, worst: 41222.60867050756.\n",
      "Round 21: best: 267431.6104503056, worst: 46016.41093981238.\n",
      "Random direction\n",
      "Round 22: best: 267465.6966565564, worst: 46236.01516705372.\n",
      "Round 23: best: 395181.92764716985, worst: 51853.454827933216.\n",
      "Random direction\n",
      "Round 24: best: 396530.1302515802, worst: 51863.11134034994.\n",
      "Round 25: best: 464317.043938486, worst: 60159.24196326353.\n",
      "Random direction\n",
      "Round 26: best: 464801.2590480102, worst: 60227.022478143765.\n",
      "Round 27: best: 467730.514944827, worst: 70958.8745921607.\n",
      "Random direction\n",
      "Round 28: best: 470207.0076310376, worst: 72461.10532902119.\n",
      "Round 29: best: 470371.5039203125, worst: 86835.47966184244.\n",
      "Random direction\n",
      "Round 30: best: 470376.69889582053, worst: 89835.79891766976.\n",
      "Round 31: best: 529908.5456215971, worst: 101575.2459731382.\n",
      "Round 31: 529908.5456215971\n",
      "Random direction\n",
      "Round 32: best: 530687.2489569036, worst: 102238.00772926869.\n",
      "Round 33: best: 598674.877758554, worst: 109973.76644795708.\n",
      "Random direction\n",
      "Round 34: best: 598930.7192165138, worst: 118181.79179664723.\n",
      "Round 35: best: 605525.1586286225, worst: 140746.88753129775.\n",
      "Random direction\n",
      "Round 36: best: 620173.3498752608, worst: 140751.2511842387.\n",
      "Round 37: best: 679283.8943296113, worst: 147637.4953553931.\n",
      "Random direction\n",
      "Round 38: best: 682830.0946185138, worst: 148256.2984100604.\n",
      "Round 39: best: 710107.7816634505, worst: 180317.1495447715.\n",
      "Random direction\n",
      "Round 40: best: 710111.3589515951, worst: 182091.99015393812.\n",
      "Round 41: best: 710429.9958990075, worst: 186620.13328260492.\n",
      "Random direction\n",
      "Round 42: best: 716503.7189679238, worst: 187349.5623199978.\n",
      "Round 43: best: 729478.2009441372, worst: 258656.40676675472.\n",
      "Random direction\n",
      "Round 44: best: 729511.1944695425, worst: 258658.01847973673.\n",
      "Round 45: best: 748736.4898151282, worst: 282924.8036071059.\n",
      "Random direction\n",
      "Round 46: best: 757315.7339328881, worst: 288387.1172909691.\n",
      "Round 47: best: 759613.6764892099, worst: 291989.9331806908.\n",
      "Random direction\n",
      "Round 48: best: 760873.1807731728, worst: 292050.79651292326.\n",
      "Round 49: best: 760944.3753315699, worst: 317859.1094622067.\n",
      "Random direction\n",
      "Round 50: best: 761457.3692745958, worst: 319176.5805021122.\n",
      "Round 51: best: 782489.9954744008, worst: 350400.86416687164.\n",
      "Random direction\n",
      "Round 52: best: 784113.104718383, worst: 354673.5988094408.\n",
      "Round 53: best: 805303.510416689, worst: 378151.9921342255.\n",
      "Random direction\n",
      "Round 54: best: 805493.8531025504, worst: 378318.4396981588.\n",
      "Round 55: best: 822532.027856197, worst: 383569.5824502025.\n",
      "Random direction\n",
      "Round 56: best: 824485.134578064, worst: 384415.4971380311.\n",
      "Round 57: best: 832530.3226314986, worst: 388337.4598923905.\n",
      "Random direction\n",
      "Round 58: best: 832582.2842595517, worst: 389103.4988817841.\n",
      "Round 59: best: 846934.4716458417, worst: 406363.12330211315.\n",
      "Random direction\n",
      "Round 60: best: 872056.4873904082, worst: 406803.1949504707.\n",
      "Round 61: best: 872084.7795554909, worst: 407155.3870903144.\n",
      "Random direction\n",
      "Round 62: best: 889627.9452606763, worst: 407607.31663524086.\n",
      "Round 63: best: 896338.5851944493, worst: 569163.907251692.\n",
      "Random direction\n",
      "Round 64: best: 896625.2989923719, worst: 573361.4586693812.\n",
      "Round 65: best: 904275.7826035171, worst: 673689.8230043019.\n",
      "Random direction\n",
      "Round 66: best: 907900.3790849517, worst: 675337.3563581458.\n",
      "Round 67: best: 911607.9876032462, worst: 699208.4334506072.\n",
      "Random direction\n",
      "Round 68: best: 912706.6811595822, worst: 702253.7407788057.\n",
      "Round 69: best: 917579.773361847, worst: 702628.9445032965.\n",
      "Random direction\n",
      "Round 70: best: 921175.6471227971, worst: 706334.0557027364.\n",
      "Round 71: best: 926380.5631028065, worst: 794760.169199528.\n",
      "Random direction\n",
      "Round 72: best: 931542.4269722975, worst: 795398.0069380798.\n",
      "Round 73: best: 949057.6501840334, worst: 795627.4716656962.\n",
      "Random direction\n",
      "Round 74: best: 952395.489186042, worst: 796893.2856075275.\n",
      "Round 74: 952395.489186042\n",
      "Round 75: best: 955831.4233931456, worst: 804853.3605690129.\n",
      "Random direction\n",
      "Round 76: best: 956092.8103779444, worst: 806309.3331248305.\n",
      "Round 77: best: 961614.2102251503, worst: 849321.9059938702.\n",
      "Random direction\n",
      "Round 78: best: 962962.6593982958, worst: 855614.2183855139.\n",
      "Round 79: best: 973085.0488757809, worst: 871709.0578740394.\n",
      "Random direction\n",
      "Round 80: best: 973117.182617612, worst: 871709.7971981913.\n",
      "Round 81: best: 973391.5104883508, worst: 884972.4624077253.\n",
      "Random direction\n",
      "Round 82: best: 974695.1289719758, worst: 885485.0249413956.\n",
      "Round 83: best: 985782.803025468, worst: 892481.1976054397.\n",
      "Random direction\n",
      "Round 84: best: 985928.8015549015, worst: 894885.3896494994.\n",
      "Round 85: best: 988419.6303060331, worst: 902737.3634926165.\n",
      "Random direction\n",
      "Round 86: best: 989095.552184292, worst: 904817.0536811363.\n",
      "Round 87: best: 1.00873550307782e6, worst: 911576.2803322632.\n",
      "Random direction\n",
      "Round 88: best: 1.0094133276646724e6, worst: 911674.9071812802.\n",
      "Round 89: best: 1.0205382493279305e6, worst: 922757.6591287145.\n",
      "Random direction\n",
      "Round 90: best: 1.0205421579396534e6, worst: 922761.6273926193.\n",
      "Round 91: best: 1.0319696846055329e6, worst: 926071.8561619959.\n",
      "Random direction\n",
      "Round 92: best: 1.0388137711844689e6, worst: 926321.7594499734.\n",
      "Round 93: best: 1.0519560943901585e6, worst: 927950.7681152871.\n",
      "Random direction\n",
      "Round 94: best: 1.0521786994204596e6, worst: 928720.0251333453.\n",
      "Round 95: best: 1.0522264074477616e6, worst: 928743.5143263087.\n",
      "Random direction\n",
      "Round 96: best: 1.05231018156904e6, worst: 929179.5386996721.\n",
      "Round 97: best: 1.0533571878293e6, worst: 939092.5164591633.\n",
      "Random direction\n",
      "Round 98: best: 1.0534644065141617e6, worst: 939663.510521801.\n",
      "Round 99: best: 1.0535506148636062e6, worst: 940047.739631697.\n",
      "Random direction\n",
      "Round 100: best: 1.0545022086062478e6, worst: 940059.7809597659.\n",
      "Round 101: best: 1.0563449890195567e6, worst: 941600.6513865804.\n",
      "Random direction\n",
      "Round 102: best: 1.0577235072167576e6, worst: 941648.9533866914.\n",
      "Round 103: best: 1.0605919477816725e6, worst: 976513.3946370437.\n",
      "Random direction\n",
      "Round 104: best: 1.0616857196475936e6, worst: 976656.4494722399.\n",
      "Round 105: best: 1.0754161051984762e6, worst: 992125.2377370464.\n",
      "Random direction\n",
      "Round 106: best: 1.075539685404961e6, worst: 992346.3074991943.\n",
      "Round 107: best: 1.0841525893033608e6, worst: 1.0096695238264777e6.\n",
      "Random direction\n",
      "Round 108: best: 1.0842774630329555e6, worst: 1.0105804220488068e6.\n",
      "Round 109: best: 1.0953189614266811e6, worst: 1.0207284296195075e6.\n",
      "Random direction\n",
      "Round 110: best: 1.095778122385373e6, worst: 1.021744216575903e6.\n",
      "Round 111: best: 1.09582868350026e6, worst: 1.0259461829639904e6.\n",
      "Random direction\n",
      "Round 112: best: 1.0958411475513233e6, worst: 1.0278322147559337e6.\n",
      "Round 113: best: 1.097820553247566e6, worst: 1.0301448772624226e6.\n",
      "Random direction\n",
      "Round 114: best: 1.098014821424841e6, worst: 1.0313091602973522e6.\n",
      "Round 115: best: 1.10173606659975e6, worst: 1.0444187431253719e6.\n",
      "Random direction\n"
     ]
    },
    {
     "name": "stdout",
     "output_type": "stream",
     "text": [
      "Round 116: best: 1.1017807353869022e6, worst: 1.0470931105285636e6.\n",
      "Round 117: best: 1.1109613665567196e6, worst: 1.0472900016512438e6.\n",
      "Random direction\n",
      "Round 118: best: 1.1110097441291478e6, worst: 1.049100142810233e6.\n",
      "Round 119: best: 1.1142097918876954e6, worst: 1.050046369954661e6.\n",
      "Random direction\n",
      "Round 120: best: 1.1151743191155677e6, worst: 1.0501828529357372e6.\n",
      "Round 121: best: 1.1209834782023262e6, worst: 1.0583119758705515e6.\n",
      "Random direction\n",
      "Round 122: best: 1.122253246396224e6, worst: 1.0583119758705515e6.\n",
      "Round 123: best: 1.1231300668024425e6, worst: 1.0591703023717706e6.\n",
      "Random direction\n",
      "Round 124: best: 1.1237820774851108e6, worst: 1.060252164764596e6.\n",
      "Round 125: best: 1.125476968565831e6, worst: 1.0686656215497174e6.\n",
      "Random direction\n",
      "Round 126: best: 1.1254769796814013e6, worst: 1.0698448867505058e6.\n",
      "Round 126: 1.1254769796814013e6\n",
      "Round 127: best: 1.126435765733116e6, worst: 1.0702926937915215e6.\n",
      "Random direction\n",
      "Round 128: best: 1.1264470955615225e6, worst: 1.0733921534158494e6.\n",
      "Round 129: best: 1.1267380951188698e6, worst: 1.082261506268269e6.\n",
      "Random direction\n",
      "Round 130: best: 1.1267912859436462e6, worst: 1.0825935868172892e6.\n",
      "Round 131: best: 1.1279522972352623e6, worst: 1.0871953579863047e6.\n",
      "Random direction\n",
      "Round 132: best: 1.1284041113499433e6, worst: 1.08965794971656e6.\n",
      "Round 133: best: 1.13025482406222e6, worst: 1.0903793526297077e6.\n",
      "Random direction\n",
      "Round 134: best: 1.1308964084668583e6, worst: 1.090383039515538e6.\n",
      "Round 135: best: 1.1323220783347802e6, worst: 1.0972198789380353e6.\n",
      "Random direction\n",
      "Round 136: best: 1.1334082127466043e6, worst: 1.0973326619157982e6.\n",
      "Round 137: best: 1.135440757969223e6, worst: 1.1031108478937307e6.\n",
      "Random direction\n",
      "Round 138: best: 1.1355202383548815e6, worst: 1.103435091181463e6.\n",
      "Round 139: best: 1.1410682597465627e6, worst: 1.1058073160621328e6.\n",
      "Random direction\n",
      "Round 140: best: 1.141198281454012e6, worst: 1.1058175570199243e6.\n",
      "Round 141: best: 1.1412064770500904e6, worst: 1.1058203445414347e6.\n",
      "Random direction\n",
      "Round 142: best: 1.141668697596029e6, worst: 1.105936969827926e6.\n",
      "Round 143: best: 1.1438277048621308e6, worst: 1.106149654992943e6.\n",
      "Random direction\n",
      "Round 144: best: 1.1439766933572295e6, worst: 1.1061685219432146e6.\n",
      "Round 145: best: 1.1444953650660235e6, worst: 1.1115447923558303e6.\n",
      "Random direction\n",
      "Round 146: best: 1.145568393754525e6, worst: 1.1116256823673393e6.\n",
      "Round 147: best: 1.146907584116797e6, worst: 1.1116838575990836e6.\n",
      "Random direction\n",
      "Round 148: best: 1.147974725915399e6, worst: 1.1120812184069024e6.\n",
      "Round 149: best: 1.1500593205452522e6, worst: 1.1122473729812978e6.\n",
      "Random direction\n",
      "Round 150: best: 1.1505452910821592e6, worst: 1.1125341736113455e6.\n",
      "Round 151: best: 1.1514777721920414e6, worst: 1.1127835062269464e6.\n",
      "Random direction\n",
      "Round 152: best: 1.1517615276705665e6, worst: 1.11288681187148e6.\n",
      "Round 153: best: 1.1528294436424698e6, worst: 1.116767462714124e6.\n",
      "Random direction\n",
      "Round 154: best: 1.1530740342183826e6, worst: 1.1167958188005325e6.\n",
      "Round 155: best: 1.1532191978752224e6, worst: 1.1317701648427406e6.\n",
      "Random direction\n",
      "Round 156: best: 1.153460072385481e6, worst: 1.1319266597686857e6.\n",
      "Round 157: best: 1.1559384123800073e6, worst: 1.1331204248526595e6.\n",
      "Random direction\n",
      "Round 158: best: 1.156256269363068e6, worst: 1.1331264142853387e6.\n",
      "Round 159: best: 1.1574819721088856e6, worst: 1.1378371406712488e6.\n",
      "Random direction\n",
      "Round 160: best: 1.1576227897322294e6, worst: 1.1382848163739713e6.\n",
      "Round 161: best: 1.1581005367453308e6, worst: 1.138313369304858e6.\n",
      "Random direction\n",
      "Round 162: best: 1.1583135377601152e6, worst: 1.1383228240051663e6.\n",
      "Round 163: best: 1.1599225421579336e6, worst: 1.1394410400116856e6.\n",
      "Random direction\n",
      "Round 164: best: 1.1605370323869418e6, worst: 1.1394425284494027e6.\n",
      "Round 165: best: 1.1610431760105286e6, worst: 1.147346314807687e6.\n",
      "Random direction\n",
      "Round 166: best: 1.1610977988174104e6, worst: 1.1473774840328333e6.\n",
      "Round 167: best: 1.161525222737634e6, worst: 1.1486067529685036e6.\n",
      "Random direction\n",
      "Round 168: best: 1.1619776436810382e6, worst: 1.1486971017298414e6.\n",
      "Round 169: best: 1.1632011407633298e6, worst: 1.148775299876578e6.\n",
      "Random direction\n",
      "Round 170: best: 1.1632899717977392e6, worst: 1.1487764712317367e6.\n",
      "Round 171: best: 1.1642337592106722e6, worst: 1.1510441298833836e6.\n",
      "Random direction\n",
      "Round 172: best: 1.1642844721317752e6, worst: 1.1516869400384824e6.\n",
      "Round 173: best: 1.165149177284709e6, worst: 1.153967280525413e6.\n",
      "Random direction\n",
      "Round 174: best: 1.1651707099434964e6, worst: 1.154006647970541e6.\n",
      "Round 175: best: 1.166668382260909e6, worst: 1.1543907326150173e6.\n",
      "Random direction\n",
      "Round 176: best: 1.1666972831188692e6, worst: 1.1543908742994615e6.\n",
      "Round 176: 1.1666972831188692e6\n",
      "Round 177: best: 1.1668317447711346e6, worst: 1.1558802672652137e6.\n",
      "Random direction\n",
      "Round 178: best: 1.166922265982603e6, worst: 1.155975402815286e6.\n",
      "Round 179: best: 1.1679085293530207e6, worst: 1.156431558515639e6.\n",
      "Random direction\n",
      "Round 180: best: 1.1679869526942887e6, worst: 1.1565196192676523e6.\n",
      "Round 181: best: 1.1682079731556147e6, worst: 1.1565377374271497e6.\n",
      "Random direction\n",
      "Round 182: best: 1.1682139665768263e6, worst: 1.1566358368895072e6.\n",
      "Round 183: best: 1.1695389556470234e6, worst: 1.1581082966021418e6.\n",
      "Random direction\n",
      "Round 184: best: 1.1695948488023158e6, worst: 1.158108755140477e6.\n",
      "Round 185: best: 1.1696954369165339e6, worst: 1.1584931324089044e6.\n",
      "Random direction\n",
      "Round 186: best: 1.1698946715971467e6, worst: 1.158938076430415e6.\n",
      "Round 187: best: 1.1716087829845727e6, worst: 1.159382818074568e6.\n",
      "Random direction\n",
      "Round 188: best: 1.1716859642068434e6, worst: 1.1595484074051993e6.\n",
      "Round 189: best: 1.1720445897197602e6, worst: 1.159566203304306e6.\n",
      "Random direction\n",
      "Round 190: best: 1.1720501809638692e6, worst: 1.160058022827629e6.\n",
      "Round 191: best: 1.172442999865323e6, worst: 1.1627142828357348e6.\n",
      "Random direction\n",
      "Round 192: best: 1.1726337298277281e6, worst: 1.1628187417734913e6.\n",
      "Round 193: best: 1.1733951190804364e6, worst: 1.1635086506785895e6.\n",
      "Random direction\n",
      "Round 194: best: 1.173699204708208e6, worst: 1.1638433275000928e6.\n",
      "Round 195: best: 1.1737030006687636e6, worst: 1.1662552177030202e6.\n",
      "Random direction\n",
      "Round 196: best: 1.173731238545146e6, worst: 1.166370430887472e6.\n",
      "Round 197: best: 1.1755217553840533e6, worst: 1.166992801977002e6.\n",
      "Random direction\n",
      "Round 198: best: 1.1755245416208173e6, worst: 1.1672561905358962e6.\n",
      "Round 199: best: 1.175571583745391e6, worst: 1.1678984598268133e6.\n",
      "Random direction\n",
      "Round 200: best: 1.1757838667830306e6, worst: 1.1679071405786865e6.\n",
      "Round 201: best: 1.1757871624544444e6, worst: 1.1689140694730266e6.\n",
      "Random direction\n",
      "Round 202: best: 1.17580149799175e6, worst: 1.1690050393932608e6.\n",
      "Round 203: best: 1.1760486016489542e6, worst: 1.1692362687343254e6.\n",
      "Random direction\n",
      "Round 204: best: 1.1760802977841021e6, worst: 1.1692568681650164e6.\n",
      "Round 205: best: 1.1767855538121504e6, worst: 1.170117049373649e6.\n",
      "Random direction\n",
      "Round 206: best: 1.1768155969911257e6, worst: 1.170121946939489e6.\n",
      "Round 207: best: 1.1774933022190612e6, worst: 1.1711891605640245e6.\n",
      "Random direction\n",
      "Round 208: best: 1.1779723808218124e6, worst: 1.1715223829126875e6.\n",
      "Round 209: best: 1.17797601733852e6, worst: 1.1715247169901151e6.\n",
      "Random direction\n",
      "Round 210: best: 1.1781133562215264e6, worst: 1.1716230316815607e6.\n",
      "Round 211: best: 1.1785677039109594e6, worst: 1.1722014632974039e6.\n",
      "Random direction\n",
      "Round 212: best: 1.178574093699281e6, worst: 1.1722089479317307e6.\n",
      "Round 213: best: 1.1787051661473168e6, worst: 1.1728834770545196e6.\n",
      "Random direction\n",
      "Round 214: best: 1.1787886213824202e6, worst: 1.1728851494149086e6.\n",
      "Round 215: best: 1.1796194598888624e6, worst: 1.173069362599609e6.\n",
      "Random direction\n",
      "Round 216: best: 1.1796444862499624e6, worst: 1.1730694091659097e6.\n",
      "Round 217: best: 1.1797327786828212e6, worst: 1.174154633748761e6.\n",
      "Random direction\n",
      "Round 218: best: 1.1799001426640626e6, worst: 1.1741794103560068e6.\n",
      "Round 219: best: 1.1803284966564828e6, worst: 1.1742820264409084e6.\n",
      "Random direction\n",
      "Round 220: best: 1.180335213252475e6, worst: 1.1742844181396365e6.\n",
      "Round 221: best: 1.1809413380622943e6, worst: 1.1761579785713754e6.\n",
      "Random direction\n",
      "Round 222: best: 1.1810269680764137e6, worst: 1.1761907836690089e6.\n",
      "Round 222: 1.1810269680764137e6\n"
     ]
    },
    {
     "name": "stdout",
     "output_type": "stream",
     "text": [
      "Round 223: best: 1.1811169844344396e6, worst: 1.176409514062405e6.\n",
      "Random direction\n",
      "Round 224: best: 1.1811632038716094e6, worst: 1.1764132742856075e6.\n",
      "Round 225: best: 1.181401268429099e6, worst: 1.176807979356142e6.\n",
      "Random direction\n",
      "Round 226: best: 1.1814021787145275e6, worst: 1.176807979356142e6.\n",
      "Round 227: best: 1.181623461252038e6, worst: 1.1770942670572817e6.\n",
      "Random direction\n",
      "Round 228: best: 1.181660079989143e6, worst: 1.177121979251644e6.\n",
      "Round 229: best: 1.1818910941149462e6, worst: 1.177626917017121e6.\n",
      "Random direction\n",
      "Round 230: best: 1.1818992518342093e6, worst: 1.177758665791385e6.\n",
      "Round 231: best: 1.182139963403666e6, worst: 1.1777588947333987e6.\n",
      "Random direction\n",
      "Round 232: best: 1.1821514780061976e6, worst: 1.1777795205403604e6.\n",
      "Round 233: best: 1.182800788290432e6, worst: 1.179254693211945e6.\n",
      "Random direction\n",
      "Round 234: best: 1.1829771655910523e6, worst: 1.179254693211945e6.\n",
      "Round 235: best: 1.182977165664585e6, worst: 1.1796718764218644e6.\n",
      "Random direction\n",
      "Round 236: best: 1.1832008833024625e6, worst: 1.1796724446740244e6.\n",
      "Round 237: best: 1.18330556183771e6, worst: 1.1797465019090327e6.\n",
      "Random direction\n",
      "Round 238: best: 1.1833134165707564e6, worst: 1.179891762834683e6.\n",
      "Round 239: best: 1.1834845793722644e6, worst: 1.1799301614778438e6.\n",
      "Random direction\n",
      "      From worker 13:\tErrorException(\"throw it!\")\n",
      "Round 240: best: 1.1835516867178814e6, worst: 1.1799435904237032e6.\n",
      "Round 241: best: 1.1841371465990914e6, worst: 1.1806858128486555e6.\n",
      "Random direction\n",
      "Round 242: best: 1.1842230338922068e6, worst: 1.1807169199594327e6.\n",
      "Round 243: best: 1.1842383590610824e6, worst: 1.1810254039832037e6.\n",
      "Random direction\n",
      "Round 244: best: 1.1843988599052613e6, worst: 1.1810404325406847e6.\n",
      "Round 245: best: 1.1844118318439072e6, worst: 1.1810414486982129e6.\n",
      "Random direction\n",
      "Round 246: best: 1.1844201341984621e6, worst: 1.1810414594180437e6.\n",
      "Round 247: best: 1.1844943662918047e6, worst: 1.181481934982867e6.\n",
      "Random direction\n",
      "Round 248: best: 1.1845163555248324e6, worst: 1.1814852120266012e6.\n",
      "Round 249: best: 1.1846554901842074e6, worst: 1.1818646835119142e6.\n",
      "Random direction\n",
      "Round 250: best: 1.1846575533486796e6, worst: 1.1818657665198848e6.\n",
      "Round 251: best: 1.1847579437904665e6, worst: 1.1818969297712988e6.\n",
      "Random direction\n",
      "Round 252: best: 1.184857030205692e6, worst: 1.1819920741014306e6.\n",
      "Round 253: best: 1.1850610038410425e6, worst: 1.1826946195112942e6.\n",
      "Random direction\n",
      "Round 254: best: 1.1850770544696876e6, worst: 1.1827161981351532e6.\n",
      "Round 255: best: 1.1851923162180702e6, worst: 1.1829188702423312e6.\n",
      "Random direction\n",
      "Round 256: best: 1.1852037947758534e6, worst: 1.1829545280268847e6.\n",
      "Round 257: best: 1.1856129289006817e6, worst: 1.1830238562088893e6.\n",
      "Random direction\n",
      "Round 258: best: 1.1856134102369728e6, worst: 1.183032866014805e6.\n",
      "Round 259: best: 1.185892223974174e6, worst: 1.1835102410977227e6.\n",
      "Random direction\n",
      "Round 260: best: 1.18589819915288e6, worst: 1.1835581472296754e6.\n",
      "Round 261: best: 1.185913573712292e6, worst: 1.183708425903816e6.\n",
      "Random direction\n",
      "Round 262: best: 1.1860150048664252e6, worst: 1.1837525920990845e6.\n",
      "Round 263: best: 1.1860561296511956e6, worst: 1.183945410404616e6.\n",
      "Random direction\n",
      "Round 264: best: 1.18611432254436e6, worst: 1.183955809260062e6.\n",
      "Round 265: best: 1.1862170396789361e6, worst: 1.184022990430949e6.\n",
      "Random direction\n",
      "Round 266: best: 1.1862450657385122e6, worst: 1.184029965526742e6.\n",
      "Round 266: 1.1862450657385122e6\n",
      "Round 267: best: 1.1864581902347791e6, worst: 1.1840621881800196e6.\n",
      "Random direction\n",
      "Round 268: best: 1.1864950286132942e6, worst: 1.1840621881800194e6.\n",
      "Round 269: best: 1.1865999078094442e6, worst: 1.1847389227798474e6.\n",
      "Random direction\n",
      "Round 270: best: 1.1866199595768775e6, worst: 1.184745845162308e6.\n",
      "Round 271: best: 1.186650384046242e6, worst: 1.184786601342629e6.\n",
      "Random direction\n",
      "Round 272: best: 1.1866684733004244e6, worst: 1.1847891677184321e6.\n",
      "Round 273: best: 1.1866969742141033e6, worst: 1.1848179544521081e6.\n",
      "Random direction\n",
      "Round 274: best: 1.1867014106893952e6, worst: 1.1848448577591062e6.\n",
      "Round 275: best: 1.1869923995608103e6, worst: 1.1851934770219529e6.\n",
      "Random direction\n",
      "Round 276: best: 1.1870070282628066e6, worst: 1.1852122588771742e6.\n",
      "Round 277: best: 1.1870928574779576e6, worst: 1.1852468803086916e6.\n",
      "Random direction\n",
      "Round 278: best: 1.1871403854251837e6, worst: 1.1852468803086916e6.\n",
      "Round 279: best: 1.1871426772982148e6, worst: 1.1854960900739713e6.\n",
      "Random direction\n",
      "Round 280: best: 1.1871427089852476e6, worst: 1.1855117393442802e6.\n",
      "Round 281: best: 1.187200895580938e6, worst: 1.1857498235715285e6.\n",
      "Random direction\n",
      "Round 282: best: 1.1872024298203574e6, worst: 1.1857748146070691e6.\n",
      "Round 283: best: 1.1872731048886476e6, worst: 1.1858952041763738e6.\n",
      "Random direction\n",
      "Round 284: best: 1.1873335481056208e6, worst: 1.1858952178890668e6.\n",
      "Round 285: best: 1.187372611054997e6, worst: 1.1860821311863384e6.\n",
      "Random direction\n",
      "Round 286: best: 1.1874399032471236e6, worst: 1.1860931401622992e6.\n",
      "Round 287: best: 1.1875654113046417e6, worst: 1.1862635983223056e6.\n",
      "Random direction\n",
      "Round 288: best: 1.1876398910822675e6, worst: 1.1862636724961936e6.\n",
      "Round 289: best: 1.1877208996463586e6, worst: 1.1865762747775174e6.\n",
      "Random direction\n",
      "Round 290: best: 1.1877632026625404e6, worst: 1.1865941484086101e6.\n",
      "Round 291: best: 1.1877773568318072e6, worst: 1.1865955290660507e6.\n",
      "Random direction\n",
      "Round 292: best: 1.1877925553329464e6, worst: 1.186608796498332e6.\n",
      "Round 293: best: 1.187877974276981e6, worst: 1.1866087964983317e6.\n",
      "Random direction\n",
      "Round 294: best: 1.1879277031641474e6, worst: 1.1866430011634326e6.\n",
      "Round 295: best: 1.1880651381954262e6, worst: 1.1867158836051677e6.\n",
      "Random direction\n",
      "Round 296: best: 1.1880752582910387e6, worst: 1.1867161666065098e6.\n",
      "Round 297: best: 1.1881260524696584e6, worst: 1.186726408855037e6.\n",
      "Random direction\n",
      "Round 298: best: 1.1881260618429568e6, worst: 1.186768550593359e6.\n",
      "Round 299: best: 1.1882045784949213e6, worst: 1.187002120867745e6.\n",
      "Random direction\n",
      "Round 300: best: 1.188205164332095e6, worst: 1.187008465030805e6.\n",
      "Round 301: best: 1.1882810083195437e6, worst: 1.1870604586360806e6.\n",
      "Random direction\n",
      "Round 302: best: 1.188281091740172e6, worst: 1.1870652463076299e6.\n",
      "Round 303: best: 1.1884115769332068e6, worst: 1.1870679788264865e6.\n",
      "Random direction\n",
      "Round 304: best: 1.1884145779460066e6, worst: 1.187068835318305e6.\n",
      "Round 305: best: 1.1884743464260541e6, worst: 1.18749241488109e6.\n",
      "Random direction\n",
      "Round 306: best: 1.188483830967868e6, worst: 1.1875000965876922e6.\n",
      "Round 307: best: 1.1884987553194133e6, worst: 1.1875001596076312e6.\n",
      "Random direction\n",
      "Round 308: best: 1.1885569733478872e6, worst: 1.1875003375397588e6.\n",
      "Round 309: best: 1.1886951205954251e6, worst: 1.187717486830505e6.\n",
      "Random direction\n",
      "Round 310: best: 1.1886962642932434e6, worst: 1.18772241914107e6.\n",
      "Round 311: best: 1.1887094310111227e6, worst: 1.1877313543984413e6.\n",
      "Random direction\n",
      "Round 312: best: 1.188714632284844e6, worst: 1.1877316469451683e6.\n",
      "Round 313: best: 1.1887666733935883e6, worst: 1.187962752181251e6.\n",
      "Round 313: 1.1887666733935883e6\n",
      "Random direction\n",
      "Round 314: best: 1.1887786885919156e6, worst: 1.1879686911301597e6.\n",
      "Round 315: best: 1.1888159242584056e6, worst: 1.1879808885449434e6.\n",
      "Random direction\n",
      "Round 316: best: 1.1888312421184608e6, worst: 1.1879886545482716e6.\n",
      "Round 317: best: 1.1890418732487396e6, worst: 1.1881520131256802e6.\n",
      "Random direction\n",
      "Round 318: best: 1.1890628626713855e6, worst: 1.1881558814555986e6.\n",
      "Round 319: best: 1.1890769736513093e6, worst: 1.1881708406287278e6.\n",
      "Random direction\n",
      "Round 320: best: 1.1890769935959044e6, worst: 1.1881892320616525e6.\n",
      "      From worker 4:\tErrorException(\"throw it!\")\n",
      "Round 321: best: 1.1891315943393086e6, worst: 1.188288143712222e6.\n",
      "Random direction\n",
      "Round 322: best: 1.1891455718425694e6, worst: 1.1883017509243987e6.\n",
      "Round 323: best: 1.189275078043717e6, worst: 1.188339694165299e6.\n",
      "Random direction\n",
      "Round 324: best: 1.1892871789581368e6, worst: 1.188339694165299e6.\n",
      "Round 325: best: 1.189326759139097e6, worst: 1.1884407964011643e6.\n",
      "Random direction\n",
      "Round 326: best: 1.189329193417168e6, worst: 1.188486810070305e6.\n",
      "Round 327: best: 1.1893681131260868e6, worst: 1.1886001349965318e6.\n",
      "Random direction\n",
      "Round 328: best: 1.1893710481039642e6, worst: 1.1886018721285076e6.\n"
     ]
    },
    {
     "name": "stdout",
     "output_type": "stream",
     "text": [
      "Round 329: best: 1.1893837092632884e6, worst: 1.188760504859592e6.\n",
      "Random direction\n",
      "Round 330: best: 1.1894199055599326e6, worst: 1.1887691125634094e6.\n",
      "Round 331: best: 1.1894482918337497e6, worst: 1.1888004341276158e6.\n",
      "Random direction\n",
      "Round 332: best: 1.1894505016089084e6, worst: 1.1888004345989642e6.\n",
      "Round 333: best: 1.189461837331998e6, worst: 1.1888283579180613e6.\n",
      "Random direction\n",
      "Round 334: best: 1.1894625311047628e6, worst: 1.188838139428738e6.\n",
      "Round 335: best: 1.1895247818033386e6, worst: 1.1888619835076425e6.\n",
      "Random direction\n",
      "Round 336: best: 1.1895267494996313e6, worst: 1.1888621651286576e6.\n",
      "Round 337: best: 1.1895731748971504e6, worst: 1.188887548634199e6.\n",
      "Random direction\n",
      "Round 338: best: 1.1895733111239558e6, worst: 1.1888914595854878e6.\n",
      "Round 339: best: 1.1896040093553837e6, worst: 1.1889427604921607e6.\n",
      "Random direction\n",
      "Round 340: best: 1.1896105419056425e6, worst: 1.1889430349718633e6.\n",
      "Round 341: best: 1.1896446381917621e6, worst: 1.1889639074688368e6.\n",
      "Random direction\n",
      "Round 342: best: 1.1896446714605324e6, worst: 1.1889674252540015e6.\n",
      "      From worker 12:\tErrorException(\"throw it!\")\n",
      "Round 343: best: 1.1896946444614155e6, worst: 1.189028378168837e6.\n",
      "Random direction\n",
      "Round 344: best: 1.1896959876487572e6, worst: 1.1890317217831423e6.\n",
      "Round 345: best: 1.1897775152759126e6, worst: 1.1892853141913726e6.\n",
      "Random direction\n",
      "Round 346: best: 1.1897952632190178e6, worst: 1.189300936099693e6.\n",
      "Round 347: best: 1.189862166647517e6, worst: 1.1893520505918514e6.\n",
      "Random direction\n",
      "Round 348: best: 1.1898622781877473e6, worst: 1.1893573995180803e6.\n",
      "      From worker 3:\tErrorException(\"throw it!\")\n",
      "Round 349: best: 1.1898709223215745e6, worst: 1.1893891479533762e6.\n",
      "Random direction\n",
      "Round 350: best: 1.1898909626597862e6, worst: 1.1893924459883189e6.\n",
      "Round 351: best: 1.1899496690250668e6, worst: 1.1894865733626988e6.\n",
      "Random direction\n",
      "Round 352: best: 1.1899503380553892e6, worst: 1.189496322380901e6.\n",
      "Round 353: best: 1.1900132106904492e6, worst: 1.1895197781391484e6.\n",
      "Random direction\n",
      "Round 354: best: 1.1900153287826811e6, worst: 1.1895215064870047e6.\n",
      "Round 355: best: 1.1900435397453879e6, worst: 1.1895875139908472e6.\n",
      "Random direction\n",
      "Round 356: best: 1.1900435401364511e6, worst: 1.1895884794970388e6.\n",
      "Round 357: best: 1.1900909169427133e6, worst: 1.189626124591657e6.\n",
      "Round 357: 1.1900909169427133e6\n",
      "Random direction\n",
      "Round 358: best: 1.190092835501661e6, worst: 1.1896276458531343e6.\n",
      "Round 359: best: 1.1900945133367744e6, worst: 1.1896472287022755e6.\n",
      "Random direction\n",
      "Round 360: best: 1.1900965419969305e6, worst: 1.1896539752234807e6.\n",
      "Round 361: best: 1.1902275728661465e6, worst: 1.1896646981119178e6.\n",
      "Random direction\n",
      "Round 362: best: 1.1902317968303736e6, worst: 1.1896708643497818e6.\n",
      "Round 363: best: 1.1902692716656923e6, worst: 1.1896721653561217e6.\n",
      "Random direction\n",
      "Round 364: best: 1.1902709424994993e6, worst: 1.1896825995555774e6.\n",
      "Round 365: best: 1.1902890297049065e6, worst: 1.1897059548237242e6.\n",
      "Random direction\n",
      "Round 366: best: 1.1902899078565126e6, worst: 1.189708372422769e6.\n",
      "Round 367: best: 1.1903125961256037e6, worst: 1.1897083828827422e6.\n",
      "Random direction\n",
      "Round 368: best: 1.1903200848843714e6, worst: 1.189711089791989e6.\n",
      "Round 369: best: 1.1903559310326467e6, worst: 1.1897185206840825e6.\n",
      "Random direction\n",
      "Round 370: best: 1.1903601202712816e6, worst: 1.1897296463474212e6.\n",
      "Round 371: best: 1.190414247489288e6, worst: 1.1897675539238765e6.\n",
      "Random direction\n",
      "Round 372: best: 1.1904163193810007e6, worst: 1.1897884103354705e6.\n",
      "Round 373: best: 1.1904484387750363e6, worst: 1.1899826448644628e6.\n",
      "Random direction\n",
      "Round 374: best: 1.1904517833050329e6, worst: 1.1899834204041914e6.\n",
      "Round 375: best: 1.1905018482716691e6, worst: 1.1900323204817304e6.\n",
      "Random direction\n",
      "Round 376: best: 1.1905031888701625e6, worst: 1.1900447536258625e6.\n",
      "Round 377: best: 1.1905493591051481e6, worst: 1.1901066262613754e6.\n",
      "Random direction\n",
      "Round 378: best: 1.1905519745141044e6, worst: 1.1901070719752596e6.\n",
      "Round 379: best: 1.1905859495351154e6, worst: 1.1901172166685052e6.\n",
      "Random direction\n",
      "Round 380: best: 1.190586433655828e6, worst: 1.1901342704649065e6.\n",
      "Round 381: best: 1.1905938650462758e6, worst: 1.1902017088729925e6.\n",
      "Random direction\n",
      "Round 382: best: 1.190598766157069e6, worst: 1.1902022541982497e6.\n",
      "Round 383: best: 1.1906626830483193e6, worst: 1.1902037736533403e6.\n",
      "Random direction\n",
      "Round 384: best: 1.1906632273271729e6, worst: 1.190206212165295e6.\n",
      "Round 385: best: 1.190724474351478e6, worst: 1.1902981355610248e6.\n",
      "Random direction\n",
      "Round 386: best: 1.1907441942140327e6, worst: 1.1902997789648145e6.\n",
      "Round 387: best: 1.1907817906012957e6, worst: 1.1903368537039657e6.\n",
      "Random direction\n",
      "Round 388: best: 1.190789102948892e6, worst: 1.190345226447842e6.\n",
      "Round 389: best: 1.1907917756070879e6, worst: 1.19034724396657e6.\n",
      "Random direction\n",
      "Round 390: best: 1.1907938245225584e6, worst: 1.1903499075501792e6.\n",
      "Round 391: best: 1.1908222892762653e6, worst: 1.1904301085683845e6.\n",
      "Random direction\n",
      "Round 392: best: 1.1908267489009856e6, worst: 1.190430184317783e6.\n",
      "Round 393: best: 1.190832308497377e6, worst: 1.190430326718261e6.\n",
      "Random direction\n",
      "Round 394: best: 1.1908608556831004e6, worst: 1.1904309775527148e6.\n",
      "Round 395: best: 1.1908618189807304e6, worst: 1.1904562516034092e6.\n",
      "Random direction\n",
      "Round 396: best: 1.1908668879493228e6, worst: 1.1904562523069747e6.\n",
      "Round 397: best: 1.1909083225863525e6, worst: 1.190471780138901e6.\n",
      "Random direction\n",
      "Round 398: best: 1.1909083900262036e6, worst: 1.1904730430210948e6.\n",
      "Round 399: best: 1.1909624889249885e6, worst: 1.1905552442930182e6.\n",
      "Random direction\n",
      "Round 400: best: 1.190962918231471e6, worst: 1.1905595683227521e6.\n",
      "final: 1.190962918231471e6, after 400 rounds.\n"
     ]
    }
   ],
   "source": [
    "@everywhere f(x) = f(M,x)\n",
    "opt = popevolve(f, randn(n), 60, mapin=normit, parallel=:true, sense=:Max, randline=2, verbosity=2);"
   ]
  },
  {
   "cell_type": "code",
   "execution_count": 8,
   "metadata": {
    "ExecuteTime": {
     "end_time": "2021-01-03T16:51:37.719000-05:00",
     "start_time": "2021-01-03T21:50:37.151Z"
    }
   },
   "outputs": [
    {
     "name": "stdout",
     "output_type": "stream",
     "text": [
      "parallel\n",
      "initial pop size 1000.\n",
      "initial best: 3807.7359917521753\n",
      "Round 50: 717976.4656611773\n",
      "Round 102: 889653.0775950245\n",
      "Round 153: 928078.6316628526\n",
      "Round 205: 943612.1319177219\n",
      "Round 257: 947794.9486048274\n",
      "Round 309: 950780.7698707897\n",
      "Round 360: 953212.9714907438\n",
      "Round 411: 955739.3297111939\n",
      "final: 957796.3230188966, after 459 rounds.\n"
     ]
    }
   ],
   "source": [
    "@everywhere f(x) = f(M,x)\n",
    "for i in procs()\n",
    "remotecall_fetch(()->M, i);\n",
    "end\n",
    "opt = popevolve(f, randn(100), 60, mapin=normit, parallel=:true);"
   ]
  },
  {
   "cell_type": "code",
   "execution_count": 8,
   "metadata": {
    "ExecuteTime": {
     "end_time": "2021-01-03T16:51:37.719000-05:00",
     "start_time": "2021-01-03T21:50:37.151Z"
    }
   },
   "outputs": [
    {
     "name": "stdout",
     "output_type": "stream",
     "text": [
      "parallel\n",
      "initial pop size 1000.\n",
      "initial best: 3807.7359917521753\n",
      "Round 50: 717976.4656611773\n",
      "Round 102: 889653.0775950245\n",
      "Round 153: 928078.6316628526\n",
      "Round 205: 943612.1319177219\n",
      "Round 257: 947794.9486048274\n",
      "Round 309: 950780.7698707897\n",
      "Round 360: 953212.9714907438\n",
      "Round 411: 955739.3297111939\n",
      "final: 957796.3230188966, after 459 rounds.\n"
     ]
    }
   ],
   "source": [
    "@everywhere f(x) = f(M,x)\n",
    "for i in procs()\n",
    "remotecall_fetch(()->M, i);\n",
    "end\n",
    "opt = popevolve(f, randn(100), 60, mapin=normit, threads=:true);"
   ]
  },
  {
   "cell_type": "code",
   "execution_count": 12,
   "metadata": {
    "ExecuteTime": {
     "end_time": "2021-01-03T16:10:50.670000-05:00",
     "start_time": "2021-01-03T21:10:50.430Z"
    }
   },
   "outputs": [
    {
     "data": {
      "text/plain": [
       "17"
      ]
     },
     "execution_count": 12,
     "metadata": {},
     "output_type": "execute_result"
    }
   ],
   "source": [
    "nprocs()"
   ]
  },
  {
   "cell_type": "code",
   "execution_count": 9,
   "metadata": {
    "ExecuteTime": {
     "end_time": "2021-01-04T13:52:36.944000-05:00",
     "start_time": "2021-01-04T18:52:29.916Z"
    }
   },
   "outputs": [],
   "source": [
    "using Revise"
   ]
  },
  {
   "cell_type": "code",
   "execution_count": 10,
   "metadata": {
    "ExecuteTime": {
     "end_time": "2021-01-04T13:52:58.264000-05:00",
     "start_time": "2021-01-04T18:52:52.010Z"
    }
   },
   "outputs": [],
   "source": [
    "includet(\"/Users/spielman/gits/online_design/polynomial_rules.jl\")"
   ]
  },
  {
   "cell_type": "code",
   "execution_count": 11,
   "metadata": {
    "ExecuteTime": {
     "end_time": "2021-01-04T13:53:09.780000-05:00",
     "start_time": "2021-01-04T18:53:09.508Z"
    }
   },
   "outputs": [
    {
     "data": {
      "text/plain": [
       ":sig"
      ]
     },
     "execution_count": 11,
     "metadata": {},
     "output_type": "execute_result"
    }
   ],
   "source": [
    "Ms = randn(4,4)/10\n",
    "rule = :sig"
   ]
  },
  {
   "cell_type": "code",
   "execution_count": 12,
   "metadata": {
    "ExecuteTime": {
     "end_time": "2021-01-04T13:53:51.202000-05:00",
     "start_time": "2021-01-04T18:53:51.187Z"
    }
   },
   "outputs": [],
   "source": [
    "using StaticArrays"
   ]
  },
  {
   "cell_type": "code",
   "execution_count": 13,
   "metadata": {
    "ExecuteTime": {
     "end_time": "2021-01-04T13:54:41.866000-05:00",
     "start_time": "2021-01-04T18:54:41.573Z"
    }
   },
   "outputs": [
    {
     "data": {
      "text/plain": [
       "circ (generic function with 1 method)"
      ]
     },
     "execution_count": 13,
     "metadata": {},
     "output_type": "execute_result"
    }
   ],
   "source": [
    "circ(xs) = [SA[cos.(2*pi*x), sin.(2*pi*x)] for x in xs]\n"
   ]
  },
  {
   "cell_type": "code",
   "execution_count": 29,
   "metadata": {
    "ExecuteTime": {
     "end_time": "2021-01-04T13:58:52.463000-05:00",
     "start_time": "2021-01-04T18:58:52.324Z"
    }
   },
   "outputs": [
    {
     "data": {
      "text/plain": [
       "2×5 Array{Float64,2}:\n",
       " 0.867636  -0.980541  -0.713564  0.982553  -0.663206\n",
       " 0.497201  -0.196314   0.700591  0.185985   0.748437"
      ]
     },
     "execution_count": 29,
     "metadata": {},
     "output_type": "execute_result"
    }
   ],
   "source": [
    "x = rand(1,5)\n",
    "circle(x)"
   ]
  },
  {
   "cell_type": "code",
   "execution_count": 18,
   "metadata": {
    "ExecuteTime": {
     "end_time": "2021-01-04T13:55:33.570000-05:00",
     "start_time": "2021-01-04T18:55:33.556Z"
    }
   },
   "outputs": [
    {
     "data": {
      "text/plain": [
       "1×3 Array{SArray{Tuple{2},Float64,1,2},2}:\n",
       " [-0.176625, 0.984278]  [0.922232, -0.386636]  [0.938016, 0.346591]"
      ]
     },
     "execution_count": 18,
     "metadata": {},
     "output_type": "execute_result"
    }
   ],
   "source": [
    "circ(x)"
   ]
  },
  {
   "cell_type": "code",
   "execution_count": 19,
   "metadata": {
    "ExecuteTime": {
     "end_time": "2021-01-04T13:56:05.875000-05:00",
     "start_time": "2021-01-04T18:56:05.009Z"
    }
   },
   "outputs": [],
   "source": [
    "using BenchmarkTools"
   ]
  },
  {
   "cell_type": "code",
   "execution_count": 58,
   "metadata": {
    "ExecuteTime": {
     "end_time": "2021-01-04T14:23:48.460000-05:00",
     "start_time": "2021-01-04T19:23:48.008Z"
    }
   },
   "outputs": [
    {
     "data": {
      "text/plain": [
       "2.5245271073801527"
      ]
     },
     "execution_count": 58,
     "metadata": {},
     "output_type": "execute_result"
    }
   ],
   "source": [
    "poly_rule_fast(V, Ms, :sig)"
   ]
  },
  {
   "cell_type": "code",
   "execution_count": 49,
   "metadata": {
    "ExecuteTime": {
     "end_time": "2021-01-04T14:17:56.192000-05:00",
     "start_time": "2021-01-04T19:17:55.807Z"
    }
   },
   "outputs": [
    {
     "data": {
      "text/plain": [
       "2×2 Array{Float64,2}:\n",
       "  2.52453   -0.228267\n",
       " -0.228267   1.50897"
      ]
     },
     "execution_count": 49,
     "metadata": {},
     "output_type": "execute_result"
    }
   ],
   "source": [
    "poly_rule_fast1(circ(x), Ms, :sig)"
   ]
  },
  {
   "cell_type": "code",
   "execution_count": 60,
   "metadata": {
    "ExecuteTime": {
     "end_time": "2021-01-04T14:24:24.540000-05:00",
     "start_time": "2021-01-04T19:24:18.452Z"
    }
   },
   "outputs": [
    {
     "data": {
      "text/plain": [
       "BenchmarkTools.Trial: \n",
       "  memory estimate:  20.41 KiB\n",
       "  allocs estimate:  357\n",
       "  --------------\n",
       "  minimum time:     13.709 μs (0.00% GC)\n",
       "  median time:      17.232 μs (0.00% GC)\n",
       "  mean time:        18.756 μs (8.90% GC)\n",
       "  maximum time:     4.475 ms (99.17% GC)\n",
       "  --------------\n",
       "  samples:          10000\n",
       "  evals/sample:     1"
      ]
     },
     "execution_count": 60,
     "metadata": {},
     "output_type": "execute_result"
    }
   ],
   "source": [
    "cx = circ(x);\n",
    "@benchmark poly_rule_fast($V, $Ms, :sig; normalize=true)"
   ]
  },
  {
   "cell_type": "code",
   "execution_count": 61,
   "metadata": {
    "ExecuteTime": {
     "end_time": "2021-01-04T14:24:30.845000-05:00",
     "start_time": "2021-01-04T19:24:18.864Z"
    }
   },
   "outputs": [
    {
     "data": {
      "text/plain": [
       "BenchmarkTools.Trial: \n",
       "  memory estimate:  15.16 KiB\n",
       "  allocs estimate:  311\n",
       "  --------------\n",
       "  minimum time:     11.476 μs (0.00% GC)\n",
       "  median time:      14.625 μs (0.00% GC)\n",
       "  mean time:        15.986 μs (8.57% GC)\n",
       "  maximum time:     4.825 ms (99.29% GC)\n",
       "  --------------\n",
       "  samples:          10000\n",
       "  evals/sample:     1"
      ]
     },
     "execution_count": 61,
     "metadata": {},
     "output_type": "execute_result"
    }
   ],
   "source": [
    "@benchmark poly_rule_fast1($cx, $Ms, :sig)"
   ]
  },
  {
   "cell_type": "code",
   "execution_count": 41,
   "metadata": {
    "ExecuteTime": {
     "end_time": "2021-01-04T14:07:08.740000-05:00",
     "start_time": "2021-01-04T19:07:02.260Z"
    }
   },
   "outputs": [
    {
     "data": {
      "text/plain": [
       "BenchmarkTools.Trial: \n",
       "  memory estimate:  53.72 KiB\n",
       "  allocs estimate:  836\n",
       "  --------------\n",
       "  minimum time:     50.273 μs (0.00% GC)\n",
       "  median time:      52.523 μs (0.00% GC)\n",
       "  mean time:        63.492 μs (9.90% GC)\n",
       "  maximum time:     6.425 ms (96.57% GC)\n",
       "  --------------\n",
       "  samples:          10000\n",
       "  evals/sample:     1"
      ]
     },
     "execution_count": 41,
     "metadata": {},
     "output_type": "execute_result"
    }
   ],
   "source": [
    "V = circle(x)\n",
    "@benchmark poly_rule($V, $Ms, :sig; normalize=true)"
   ]
  },
  {
   "cell_type": "code",
   "execution_count": 32,
   "metadata": {
    "ExecuteTime": {
     "end_time": "2021-01-04T14:01:42.215000-05:00",
     "start_time": "2021-01-04T19:01:42.129Z"
    }
   },
   "outputs": [
    {
     "data": {
      "text/plain": [
       "1×5 Array{SArray{Tuple{2},Float64,1,2},2}:\n",
       " [0.867636, 0.497201]  [-0.980541, -0.196314]  …  [-0.663206, 0.748437]"
      ]
     },
     "execution_count": 32,
     "metadata": {},
     "output_type": "execute_result"
    }
   ],
   "source": [
    "cx"
   ]
  },
  {
   "cell_type": "code",
   "execution_count": 34,
   "metadata": {
    "ExecuteTime": {
     "end_time": "2021-01-04T14:02:01.762000-05:00",
     "start_time": "2021-01-04T19:02:01.400Z"
    }
   },
   "outputs": [
    {
     "data": {
      "text/plain": [
       "2-element SArray{Tuple{2},Float64,1,2} with indices SOneTo(2):\n",
       " 0.8676355988278468\n",
       " 0.4972006311808581"
      ]
     },
     "execution_count": 34,
     "metadata": {},
     "output_type": "execute_result"
    }
   ],
   "source": [
    "X = zeros(2,4)\n",
    "X[:,1] = cx[1]"
   ]
  },
  {
   "cell_type": "code",
   "execution_count": 35,
   "metadata": {
    "ExecuteTime": {
     "end_time": "2021-01-04T14:02:05.351000-05:00",
     "start_time": "2021-01-04T19:02:05.335Z"
    }
   },
   "outputs": [
    {
     "data": {
      "text/plain": [
       "2×4 Array{Float64,2}:\n",
       " 0.867636  0.0  0.0  0.0\n",
       " 0.497201  0.0  0.0  0.0"
      ]
     },
     "execution_count": 35,
     "metadata": {},
     "output_type": "execute_result"
    }
   ],
   "source": [
    "X"
   ]
  },
  {
   "cell_type": "code",
   "execution_count": 62,
   "metadata": {
    "ExecuteTime": {
     "end_time": "2021-01-04T14:27:58.402000-05:00",
     "start_time": "2021-01-04T19:27:58.177Z"
    }
   },
   "outputs": [
    {
     "data": {
      "text/plain": [
       "4×4 Array{Float64,2}:\n",
       " -0.0810998   0.0255673  -0.0878095   0.028206\n",
       "  0.0254711   0.0699956  -0.0383648  -0.105283\n",
       "  0.0448607   0.082206   -0.137994    0.0451416\n",
       " -0.0732265  -0.0741094   0.200785    0.0296783"
      ]
     },
     "execution_count": 62,
     "metadata": {},
     "output_type": "execute_result"
    }
   ],
   "source": [
    "Ms"
   ]
  },
  {
   "cell_type": "code",
   "execution_count": 69,
   "metadata": {
    "ExecuteTime": {
     "end_time": "2021-01-04T14:28:55.839000-05:00",
     "start_time": "2021-01-04T19:28:55.485Z"
    }
   },
   "outputs": [
    {
     "name": "stdout",
     "output_type": "stream",
     "text": [
      "  0.207681 seconds (3.84 M allocations: 182.640 MiB, 14.98% gc time)\n"
     ]
    },
    {
     "data": {
      "text/plain": [
       "5.773627550514789"
      ]
     },
     "execution_count": 69,
     "metadata": {},
     "output_type": "execute_result"
    }
   ],
   "source": [
    "@time bad2d_fast(Ms, 4, :sig, 50)"
   ]
  },
  {
   "cell_type": "code",
   "execution_count": 70,
   "metadata": {
    "ExecuteTime": {
     "end_time": "2021-01-04T14:29:00.502000-05:00",
     "start_time": "2021-01-04T19:28:59.502Z"
    }
   },
   "outputs": [
    {
     "name": "stdout",
     "output_type": "stream",
     "text": [
      "  0.979350 seconds (11.10 M allocations: 653.634 MiB, 12.57% gc time)\n"
     ]
    },
    {
     "data": {
      "text/plain": [
       "5.773627550373088"
      ]
     },
     "execution_count": 70,
     "metadata": {},
     "output_type": "execute_result"
    }
   ],
   "source": [
    "@time bad2d(Ms, 4, :sig, 50)"
   ]
  },
  {
   "cell_type": "code",
   "execution_count": null,
   "metadata": {},
   "outputs": [],
   "source": []
  }
 ],
 "metadata": {
  "kernelspec": {
   "display_name": "Julia 1.5.3",
   "language": "julia",
   "name": "julia-1.5"
  },
  "language_info": {
   "file_extension": ".jl",
   "mimetype": "application/julia",
   "name": "julia",
   "version": "1.5.3"
  },
  "toc": {
   "base_numbering": 1,
   "nav_menu": {},
   "number_sections": true,
   "sideBar": true,
   "skip_h1_title": false,
   "title_cell": "Table of Contents",
   "title_sidebar": "Contents",
   "toc_cell": false,
   "toc_position": {},
   "toc_section_display": true,
   "toc_window_display": false
  }
 },
 "nbformat": 4,
 "nbformat_minor": 4
}
